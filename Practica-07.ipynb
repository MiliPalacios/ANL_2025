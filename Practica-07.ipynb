{
 "cells": [
  {
   "cell_type": "markdown",
   "id": "9075b7a4",
   "metadata": {},
   "source": [
    "## Implementacion del Método de Gauss Seidel\n",
    "$$\n",
    "x_i^{(k+1)}=\\frac{1}{aii}\\left(b_i-\\sum_{j=1}^{i-1}x_j^{(k+1)}-\\sum_{j=i+1}^{n}x_j^{(k)}\\right)\\\\\n",
    "\\forall i=1,...,n\\\\\n",
    "k=0,1,2,...\n",
    "$$"
   ]
  },
  {
   "cell_type": "code",
   "execution_count": 2,
   "id": "d4ecbabf",
   "metadata": {},
   "outputs": [],
   "source": [
    "import numpy as np"
   ]
  },
  {
   "cell_type": "code",
   "execution_count": 3,
   "id": "9fb21096",
   "metadata": {},
   "outputs": [],
   "source": [
    "def gauss_seidel(A,b,x0,tol):\n",
    "    x=x0.copy()\n",
    "    k=0\n",
    "    while np.linalg.norm(x0 - np.linalg.inv(A)@b)>tol and k<=100:\n",
    "        x_ant=x.copy()\n",
    "        for i in range(len(A)):\n",
    "            suma1=0\n",
    "            suma2=0\n",
    "            for j in range(0,i):\n",
    "                suma1+=A[i,j]*x[j]\n",
    "            for j in range(i,len(A)-1):\n",
    "                suma2+=A[i,j]*x_ant[j]\n",
    "            x[i]=(b[i]-suma1-suma2)/A[i,i]\n",
    "            k+=1\n",
    "    return x,k "
   ]
  },
  {
   "cell_type": "code",
   "execution_count": 4,
   "id": "d1831472",
   "metadata": {},
   "outputs": [
    {
     "name": "stdout",
     "output_type": "stream",
     "text": [
      "VERIFICAR QUE LAMATRIZ SEA SDP: [11.19615242  1.          0.80384758]\n"
     ]
    },
    {
     "data": {
      "text/plain": [
       "(array([-0.01603159,  0.40425815,  0.61177344]), 102)"
      ]
     },
     "execution_count": 4,
     "metadata": {},
     "output_type": "execute_result"
    }
   ],
   "source": [
    "A=np.array([[1,2,0],[2,1,0],[1,1,1]])\n",
    "Asdp=A@A.T\n",
    "b=np.array([1,2,3])\n",
    "x0=np.zeros(len(b))\n",
    "tol=0.05\n",
    "print(\"VERIFICAR QUE LAMATRIZ SEA SDP:\",np.linalg.eigvals(Asdp) )\n",
    "gauss_seidel(Asdp,b,x0,tol)"
   ]
  }
 ],
 "metadata": {
  "kernelspec": {
   "display_name": "venv",
   "language": "python",
   "name": "python3"
  },
  "language_info": {
   "codemirror_mode": {
    "name": "ipython",
    "version": 3
   },
   "file_extension": ".py",
   "mimetype": "text/x-python",
   "name": "python",
   "nbconvert_exporter": "python",
   "pygments_lexer": "ipython3",
   "version": "3.13.2"
  }
 },
 "nbformat": 4,
 "nbformat_minor": 5
}
